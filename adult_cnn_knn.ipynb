{
 "cells": [
  {
   "cell_type": "code",
   "execution_count": 1,
   "metadata": {},
   "outputs": [],
   "source": [
    "# | This data was extracted from the census bureau database found at\n",
    "# | http://www.census.gov/ftp/pub/DES/www/welcome.html\n",
    "# | Donor: Ronny Kohavi and Barry Becker,\n",
    "# |        Data Mining and Visualization\n",
    "# |        Silicon Graphics.\n",
    "# |        e-mail: ronnyk@sgi.com for questions.\n",
    "# | Split into train-test using MLC++ GenCVFiles (2/3, 1/3 random).\n",
    "# | 48842 instances, mix of continuous and discrete    (train=32561, test=16281)\n",
    "# | 45222 if instances with unknown values are removed (train=30162, test=15060)\n",
    "# | Duplicate or conflicting instances : 6\n",
    "# | Class probabilities for adult.all file\n",
    "# | Probability for the label '>50K'  : 23.93% / 24.78% (without unknowns)\n",
    "# | Probability for the label '<=50K' : 76.07% / 75.22% (without unknowns)\n",
    "# |\n",
    "# | Extraction was done by Barry Becker from the 1994 Census database.  A set of\n",
    "# |   reasonably clean records was extracted using the following conditions:\n",
    "# |   ((AAGE>16) && (AGI>100) && (AFNLWGT>1)&& (HRSWK>0))\n",
    "# |\n",
    "# | Prediction task is to determine whether a person makes over 50K\n",
    "# | a year.\n",
    "# |\n",
    "# | First cited in:\n",
    "# | @inproceedings{kohavi-nbtree,\n",
    "# |    author={Ron Kohavi},\n",
    "# |    title={Scaling Up the Accuracy of Naive-Bayes Classifiers: a\n",
    "# |           Decision-Tree Hybrid},\n",
    "# |    booktitle={Proceedings of the Second International Conference on\n",
    "# |               Knowledge Discovery and Data Mining},\n",
    "# |    year = 1996,\n",
    "# |    pages={to appear}}\n",
    "# |\n",
    "# | Error Accuracy reported as follows, after removal of unknowns from\n",
    "# |    train/test sets):\n",
    "# |    C4.5       : 84.46+-0.30\n",
    "# |    Naive-Bayes: 83.88+-0.30\n",
    "# |    NBTree     : 85.90+-0.28\n",
    "# |\n",
    "# |\n",
    "# | Following algorithms were later run with the following error rates,\n",
    "# |    all after removal of unknowns and using the original train/test split.\n",
    "# |    All these numbers are straight runs using MLC++ with default values.\n",
    "# |\n",
    "# |    Algorithm               Error\n",
    "# | -- ----------------        -----\n",
    "# | 1  C4.5                    15.54\n",
    "# | 2  C4.5-auto               14.46\n",
    "# | 3  C4.5 rules              14.94\n",
    "# | 4  Voted ID3 (0.6)         15.64\n",
    "# | 5  Voted ID3 (0.8)         16.47\n",
    "# | 6  T2                      16.84\n",
    "# | 7  1R                      19.54\n",
    "# | 8  NBTree                  14.10\n",
    "# | 9  CN2                     16.00\n",
    "# | 10 HOODG                   14.82\n",
    "# | 11 FSS Naive Bayes         14.05\n",
    "# | 12 IDTM (Decision table)   14.46\n",
    "# | 13 Naive-Bayes             16.12\n",
    "# | 14 Nearest-neighbor (1)    21.42\n",
    "# | 15 Nearest-neighbor (3)    20.35\n",
    "# | 16 OC1                     15.04\n",
    "# | 17 Pebls                   Crashed.  Unknown why (bounds WERE increased)\n",
    "# |\n",
    "# | Conversion of original data as follows:\n",
    "# | 1. Discretized agrossincome into two ranges with threshold 50,000.\n",
    "# | 2. Convert U.S. to US to avoid periods.\n",
    "# | 3. Convert Unknown to \"?\"\n",
    "# | 4. Run MLC++ GenCVFiles to generate data,test.\n",
    "# |\n",
    "# | Description of fnlwgt (final weight)\n",
    "# |\n",
    "# | The weights on the CPS files are controlled to independent estimates of the\n",
    "# | civilian noninstitutional population of the US.  These are prepared monthly\n",
    "# | for us by Population Division here at the Census Bureau.  We use 3 sets of\n",
    "# | controls.\n",
    "# |  These are:\n",
    "# |          1.  A single cell estimate of the population 16+ for each state.\n",
    "# |          2.  Controls for Hispanic Origin by age and sex.\n",
    "# |          3.  Controls by Race, age and sex.\n",
    "# |\n",
    "# | We use all three sets of controls in our weighting program and \"rake\" through\n",
    "# | them 6 times so that by the end we come back to all the controls we used.\n",
    "# |\n",
    "# | The term estimate refers to population totals derived from CPS by creating\n",
    "# | \"weighted tallies\" of any specified socio-economic characteristics of the\n",
    "# | population.\n",
    "# |\n",
    "# | People with similar demographic characteristics should have\n",
    "# | similar weights.  There is one important caveat to remember\n",
    "# | about this statement.  That is that since the CPS sample is\n",
    "# | actually a collection of 51 state samples, each with its own\n",
    "# | probability of selection, the statement only applies within\n",
    "# | state.\n",
    "\n",
    "\n",
    "# >50K, <=50K.\n",
    "\n",
    "# age: continuous.\n",
    "# workclass: Private, Self-emp-not-inc, Self-emp-inc, Federal-gov, Local-gov, State-gov, Without-pay, Never-worked.\n",
    "# fnlwgt: continuous.\n",
    "# education: Bachelors, Some-college, 11th, HS-grad, Prof-school, Assoc-acdm, Assoc-voc, 9th, 7th-8th, 12th, Masters, 1st-4th, 10th, Doctorate, 5th-6th, Preschool.\n",
    "# education-num: continuous.\n",
    "# marital-status: Married-civ-spouse, Divorced, Never-married, Separated, Widowed, Married-spouse-absent, Married-AF-spouse.\n",
    "# occupation: Tech-support, Craft-repair, Other-service, Sales, Exec-managerial, Prof-specialty, Handlers-cleaners, Machine-op-inspct, Adm-clerical, Farming-fishing, Transport-moving, Priv-house-serv, Protective-serv, Armed-Forces.\n",
    "# relationship: Wife, Own-child, Husband, Not-in-family, Other-relative, Unmarried.\n",
    "# race: White, Asian-Pac-Islander, Amer-Indian-Eskimo, Other, Black.\n",
    "# sex: Female, Male.\n",
    "# capital-gain: continuous.\n",
    "# capital-loss: continuous.\n",
    "# hours-per-week: continuous.\n",
    "# native-country: United-States, Cambodia, England, Puerto-Rico, Canada, Germany, Outlying-US(Guam-USVI-etc), India, Japan, Greece, South, China, Cuba, Iran, Honduras, Philippines, Italy, Poland, Jamaica, Vietnam, Mexico, Portugal, Ireland, France, Dominican-Republic, Laos, Ecuador, Taiwan, Haiti, Columbia, Hungary, Guatemala, Nicaragua, Scotland, Thailand, Yugoslavia, El-Salvador, Trinadad&Tobago, Peru, Hong, Holand-Netherlands."
   ]
  },
  {
   "cell_type": "code",
   "execution_count": 2,
   "metadata": {},
   "outputs": [
    {
     "name": "stderr",
     "output_type": "stream",
     "text": [
      "Using TensorFlow backend.\n"
     ]
    }
   ],
   "source": [
    "# To ignore future warnings\n",
    "import warnings\n",
    "warnings.filterwarnings('ignore')\n",
    "\n",
    "# Install the library used for calculating LRP\n",
    "# % pip install innvestigate\n",
    "\n",
    "import innvestigate\n",
    "import innvestigate.utils as iutils"
   ]
  },
  {
   "cell_type": "code",
   "execution_count": 3,
   "metadata": {},
   "outputs": [],
   "source": [
    "# virtualenv lrp_env\n",
    "# source lrp_env/bin/activate\n",
    "# pip install pandas, sklearn, tensorflow, keras, matplotlib\n",
    "# pip install ipykernel\n",
    "# python -m ipykernel install --user --name lrp_env --display-name \"lrp_env\"\n",
    "\n",
    "import warnings\n",
    "warnings.filterwarnings('ignore')\n",
    "\n",
    "import pandas as pd\n",
    "import numpy as np\n",
    "from sklearn.preprocessing import OneHotEncoder, StandardScaler\n",
    "from sklearn.model_selection import train_test_split\n",
    "from tensorflow import keras\n",
    "from keras.layers import Conv2D, Flatten, Dense, Conv1D, MaxPooling2D\n",
    "import keras.layers\n",
    "from sklearn.metrics import roc_curve, auc, confusion_matrix\n",
    "\n",
    "import matplotlib.pyplot as plt\n",
    "plt.style.use('ggplot')"
   ]
  },
  {
   "cell_type": "code",
   "execution_count": 4,
   "metadata": {},
   "outputs": [],
   "source": [
    "columns = ['age', 'workclass', 'fnlwgt', 'education', 'educational-num','marital-status',\\\n",
    "               'occupation', 'relationship', 'race', 'sex','capital-gain', 'capital-loss',\\\n",
    "               'hours-per-week', 'native-country','income']\n",
    "\n",
    "original_train_df = pd.read_csv('http://archive.ics.uci.edu/ml/machine-learning-databases/adult/adult.data',\\\n",
    "                 names = columns,  sep=\",\\s\")\n",
    "\n",
    "original_test_df = pd.read_csv('http://archive.ics.uci.edu/ml/machine-learning-databases/adult/adult.test',\\\n",
    "                 names = columns,  sep=\",\\s\")"
   ]
  },
  {
   "cell_type": "code",
   "execution_count": 5,
   "metadata": {},
   "outputs": [],
   "source": [
    "# Drop the first NaN row in the test dataset\n",
    "# original_test_df.isnull().values.any().sum()\n",
    "nan_rows = original_test_df[original_test_df['workclass'].isnull()]\n",
    "original_test_df.drop(original_test_df.index[nan_rows.index.values], inplace= True)"
   ]
  },
  {
   "cell_type": "code",
   "execution_count": 6,
   "metadata": {},
   "outputs": [],
   "source": [
    "bigdata = original_train_df.append(original_test_df, ignore_index=True)"
   ]
  },
  {
   "cell_type": "code",
   "execution_count": 7,
   "metadata": {},
   "outputs": [],
   "source": [
    "df_label = original_train_df['income'].copy()\n",
    "df = original_train_df.drop('income', axis = 1)"
   ]
  },
  {
   "cell_type": "code",
   "execution_count": 8,
   "metadata": {},
   "outputs": [],
   "source": [
    "categorical = [\"workclass\",\"education\",\"marital-status\",\\\n",
    "                                          \"occupation\", \"relationship\", \"race\", \"sex\",\\\n",
    "                                           \"native-country\"]"
   ]
  },
  {
   "cell_type": "code",
   "execution_count": 9,
   "metadata": {},
   "outputs": [
    {
     "data": {
      "text/plain": [
       "(32561, 108)"
      ]
     },
     "execution_count": 9,
     "metadata": {},
     "output_type": "execute_result"
    }
   ],
   "source": [
    "scaler = StandardScaler()\n",
    "cat_encoder = OneHotEncoder()\n",
    "data_label_prepared = cat_encoder.fit_transform(pd.DataFrame(df_label))\n",
    "\n",
    "adult_cat = pd.get_dummies(df[categorical])\n",
    "adult_num = df.drop(categorical, axis = 1)\n",
    "\n",
    "adult_data = pd.concat([adult_num, adult_cat], axis=1, join='inner')\n",
    "\n",
    "adult_data = scaler.fit_transform(adult_data.astype(np.float64))\n",
    "\n",
    "adult_data.shape"
   ]
  },
  {
   "cell_type": "code",
   "execution_count": 33,
   "metadata": {},
   "outputs": [],
   "source": [
    "# Split the data set into training and testing\n",
    "X_train, X_test, Y_train, Y_test = train_test_split(\n",
    "    adult_data, data_label_prepared, test_size=0.2, random_state=42)"
   ]
  },
  {
   "cell_type": "code",
   "execution_count": 34,
   "metadata": {},
   "outputs": [
    {
     "name": "stdout",
     "output_type": "stream",
     "text": [
      "(6513, 36, 3, 1) (26048, 36, 3, 1)\n"
     ]
    }
   ],
   "source": [
    "# X_train = X_train.values\n",
    "X_train = X_train.reshape (X_train.shape[0], 36, 3, 1)\n",
    "X_train.shape\n",
    "\n",
    "# X_test = X_test.values\n",
    "X_test = X_test.reshape (X_test.shape[0], 36, 3, 1)\n",
    "print (X_test.shape, X_train.shape)"
   ]
  },
  {
   "cell_type": "code",
   "execution_count": 12,
   "metadata": {},
   "outputs": [
    {
     "name": "stdout",
     "output_type": "stream",
     "text": [
      "WARNING:tensorflow:From /home/shayan/Desktop/code/adult_dataset/lrp_env/lib/python3.7/site-packages/keras/backend/tensorflow_backend.py:74: The name tf.get_default_graph is deprecated. Please use tf.compat.v1.get_default_graph instead.\n",
      "\n",
      "WARNING:tensorflow:From /home/shayan/Desktop/code/adult_dataset/lrp_env/lib/python3.7/site-packages/keras/backend/tensorflow_backend.py:517: The name tf.placeholder is deprecated. Please use tf.compat.v1.placeholder instead.\n",
      "\n",
      "WARNING:tensorflow:From /home/shayan/Desktop/code/adult_dataset/lrp_env/lib/python3.7/site-packages/keras/backend/tensorflow_backend.py:4138: The name tf.random_uniform is deprecated. Please use tf.random.uniform instead.\n",
      "\n",
      "WARNING:tensorflow:From /home/shayan/Desktop/code/adult_dataset/lrp_env/lib/python3.7/site-packages/keras/optimizers.py:790: The name tf.train.Optimizer is deprecated. Please use tf.compat.v1.train.Optimizer instead.\n",
      "\n",
      "WARNING:tensorflow:From /home/shayan/Desktop/code/adult_dataset/lrp_env/lib/python3.7/site-packages/keras/backend/tensorflow_backend.py:3295: The name tf.log is deprecated. Please use tf.math.log instead.\n",
      "\n",
      "WARNING:tensorflow:From /home/shayan/Desktop/code/adult_dataset/lrp_env/lib/python3.7/site-packages/tensorflow/python/ops/math_grad.py:1250: add_dispatch_support.<locals>.wrapper (from tensorflow.python.ops.array_ops) is deprecated and will be removed in a future version.\n",
      "Instructions for updating:\n",
      "Use tf.where in 2.0, which has the same broadcast rule as np.where\n",
      "WARNING:tensorflow:From /home/shayan/Desktop/code/adult_dataset/lrp_env/lib/python3.7/site-packages/keras/backend/tensorflow_backend.py:986: The name tf.assign_add is deprecated. Please use tf.compat.v1.assign_add instead.\n",
      "\n",
      "Train on 26048 samples, validate on 6513 samples\n",
      "Epoch 1/10\n",
      " - 8s - loss: 0.3401 - acc: 0.8415 - val_loss: 0.3161 - val_acc: 0.8572\n",
      "Epoch 2/10\n",
      " - 7s - loss: 0.3240 - acc: 0.8475 - val_loss: 0.3232 - val_acc: 0.8574\n",
      "Epoch 3/10\n",
      " - 8s - loss: 0.3211 - acc: 0.8499 - val_loss: 0.3141 - val_acc: 0.8598\n",
      "Epoch 4/10\n",
      " - 9s - loss: 0.3187 - acc: 0.8517 - val_loss: 0.3121 - val_acc: 0.8595\n",
      "Epoch 5/10\n",
      " - 9s - loss: 0.3170 - acc: 0.8528 - val_loss: 0.3102 - val_acc: 0.8606\n",
      "Epoch 6/10\n",
      " - 7s - loss: 0.3156 - acc: 0.8542 - val_loss: 0.3104 - val_acc: 0.8592\n",
      "Epoch 7/10\n",
      " - 7s - loss: 0.3147 - acc: 0.8532 - val_loss: 0.3107 - val_acc: 0.8586\n",
      "Epoch 8/10\n",
      " - 7s - loss: 0.3143 - acc: 0.8543 - val_loss: 0.3081 - val_acc: 0.8623\n",
      "Epoch 9/10\n",
      " - 7s - loss: 0.3136 - acc: 0.8538 - val_loss: 0.3081 - val_acc: 0.8624\n",
      "Epoch 10/10\n",
      " - 7s - loss: 0.3131 - acc: 0.8533 - val_loss: 0.3093 - val_acc: 0.8574\n",
      "Test log loss: 0.30934147923869065\n",
      "Test accuracy: 0.8573621986887155\n"
     ]
    }
   ],
   "source": [
    "# Define the model\n",
    "model = None\n",
    "model = keras.Sequential()\n",
    "\n",
    "model.add(Conv2D(128, (2,2), activation='relu', input_shape=(36,3,1)))\n",
    "model.add(Flatten())\n",
    "\n",
    "# model.add(Dense(128, activation='relu'))\n",
    "\n",
    "model.add(Dense(2, input_dim = 2, activation='softmax'))  \n",
    "\n",
    "# Compile\n",
    "model.compile (loss=\"categorical_crossentropy\", optimizer = \"adam\", metrics = ['accuracy'])\n",
    "\n",
    "# Train\n",
    "history_callback = model.fit (X_train, Y_train, epochs = 10, batch_size = 10,\n",
    "           validation_data=(X_test, Y_test),\n",
    "           verbose = 2)\n",
    "\n",
    "scores = model.evaluate(X_test, Y_test, verbose=0)\n",
    "\n",
    "# Evaluate the model's performance:\n",
    "print('Test log loss:', scores[0])\n",
    "print('Test accuracy:', scores[1])"
   ]
  },
  {
   "cell_type": "code",
   "execution_count": 13,
   "metadata": {},
   "outputs": [],
   "source": [
    "CNN_predictions = model.predict_classes(X_test)"
   ]
  },
  {
   "cell_type": "code",
   "execution_count": 14,
   "metadata": {},
   "outputs": [
    {
     "data": {
      "image/png": "[encoded data removed]",
      "text/plain": [
       "<Figure size 576x432 with 2 Axes>"
      ]
     },
     "metadata": {
      "needs_background": "light"
     },
     "output_type": "display_data"
    }
   ],
   "source": [
    "# Plot the accuracy\n",
    "fig, (ax1, ax2) = plt.subplots(2, figsize=(8, 6))\n",
    "\n",
    "val_acc = history_callback.history['val_acc']\n",
    "val_loss = history_callback.history['val_loss']\n",
    "ax1.plot(val_acc, label=\"Model\")\n",
    "ax2.plot(val_loss, label=\"Model\")\n",
    "    \n",
    "ax1.set_ylabel('validation accuracy')\n",
    "ax2.set_ylabel('validation loss')\n",
    "ax2.set_xlabel('epochs')\n",
    "ax1.legend()\n",
    "ax2.legend()\n",
    "plt.show()"
   ]
  },
  {
   "cell_type": "code",
   "execution_count": 16,
   "metadata": {},
   "outputs": [
    {
     "data": {
      "image/png": "[encoded data removed]",
      "text/plain": [
       "<Figure size 576x576 with 1 Axes>"
      ]
     },
     "metadata": {
      "needs_background": "light"
     },
     "output_type": "display_data"
    }
   ],
   "source": [
    "# Plot the ROC\n",
    "plt.figure(figsize=(8, 8))\n",
    "plt.plot([0, 1], [0, 1], 'k--')\n",
    "    \n",
    "Y_pred = model.predict(X_test)\n",
    "\n",
    "real = np.argmax(Y_test, axis=1)\n",
    "pred = np.argmax(Y_pred, axis=1)\n",
    "\n",
    "fpr, tpr, threshold = roc_curve(real, pred)\n",
    "\n",
    "plt.plot(fpr, tpr, label='{}, AUC = {:.3f}'.format(\"model\", auc(fpr, tpr)))\n",
    "plt.xlabel('False positive rate')\n",
    "plt.ylabel('True positive rate')\n",
    "plt.title('ROC curve')\n",
    "plt.legend();"
   ]
  },
  {
   "cell_type": "code",
   "execution_count": 17,
   "metadata": {},
   "outputs": [
    {
     "data": {
      "text/html": [
       "<div>\n",
       "<style scoped>\n",
       "    .dataframe tbody tr th:only-of-type {\n",
       "        vertical-align: middle;\n",
       "    }\n",
       "\n",
       "    .dataframe tbody tr th {\n",
       "        vertical-align: top;\n",
       "    }\n",
       "\n",
       "    .dataframe thead th {\n",
       "        text-align: right;\n",
       "    }\n",
       "</style>\n",
       "<table border=\"1\" class=\"dataframe\">\n",
       "  <thead>\n",
       "    <tr style=\"text-align: right;\">\n",
       "      <th>col_0</th>\n",
       "      <th>0</th>\n",
       "      <th>1</th>\n",
       "    </tr>\n",
       "    <tr>\n",
       "      <th>row_0</th>\n",
       "      <th></th>\n",
       "      <th></th>\n",
       "    </tr>\n",
       "  </thead>\n",
       "  <tbody>\n",
       "    <tr>\n",
       "      <td>0</td>\n",
       "      <td>4557</td>\n",
       "      <td>385</td>\n",
       "    </tr>\n",
       "    <tr>\n",
       "      <td>1</td>\n",
       "      <td>544</td>\n",
       "      <td>1027</td>\n",
       "    </tr>\n",
       "  </tbody>\n",
       "</table>\n",
       "</div>"
      ],
      "text/plain": [
       "col_0     0     1\n",
       "row_0            \n",
       "0      4557   385\n",
       "1       544  1027"
      ]
     },
     "execution_count": 17,
     "metadata": {},
     "output_type": "execute_result"
    }
   ],
   "source": [
    "real = np.array(real).reshape(6513)\n",
    "confusion = pd.crosstab(real, pred)\n",
    "confusion"
   ]
  },
  {
   "cell_type": "code",
   "execution_count": 68,
   "metadata": {},
   "outputs": [],
   "source": [
    "# Function to output innvestigate's LRP \"Alphabeta value\": \n",
    "# (for other options, see \n",
    "# https://github.com/albermax/innvestigate/blob/accbb99d0da2eb47f22e3d04563c8964e2b1ad90/innvestigate/analyzer/relevance_based/relevance_analyzer.py)\n",
    "# lines 36-65\n",
    "\n",
    "def deeptaylor (instance, dataframe):\n",
    "    # Stripping the softmax activation from the model\n",
    "    model_wo_sm = iutils.keras.graph.model_wo_softmax(model)\n",
    "\n",
    "    # Creating an analyzer\n",
    "    #gradient_analyzer = innvestigate.create_analyzer(\"lrp.alpha_2_beta_1\", model_wo_sm)\n",
    "    analyzer = innvestigate.create_analyzer(\"deep_taylor\", model_wo_sm)\n",
    "\n",
    "    # Applying the analyzer (reshape the instance for the LRP function)\n",
    "    analysis = analyzer.analyze(np.expand_dims(dataframe[instance], axis=0))\n",
    "    lst = []\n",
    "    x = np.reshape (analysis,(108,))\n",
    "    for i in range (len(x)):\n",
    "        lst.append(x[i])\n",
    "    return lst"
   ]
  },
  {
   "cell_type": "code",
   "execution_count": 69,
   "metadata": {},
   "outputs": [],
   "source": [
    "# Choose an instance to test:\n",
    "example = 74\n",
    "example = X_train[example]\n",
    "\n",
    "model_wo_sm = iutils.keras.graph.model_wo_softmax(model)\n",
    "\n",
    "# Creating an analyzer\n",
    "gradient_analyzer = innvestigate.create_analyzer(\"deep_taylor\", model_wo_sm)\n",
    "\n",
    "# Applying the analyzer\n",
    "analysis = gradient_analyzer.analyze(np.expand_dims(example, axis=0))\n",
    "\n",
    "# print (analysis)"
   ]
  },
  {
   "cell_type": "code",
   "execution_count": 76,
   "metadata": {},
   "outputs": [],
   "source": [
    "col1 = []\n",
    "for i in range(100):\n",
    "    col1.append(\"attr {}\".format(i))\n",
    "\n",
    "columns = col1 + categorical"
   ]
  },
  {
   "cell_type": "code",
   "execution_count": 77,
   "metadata": {},
   "outputs": [],
   "source": [
    "# Create and save two dataframes (train and test) containing Alphabeta LRP information obtained from the 2D CNN:\n",
    "def create_lrp_dataframe(train_df, train_label):\n",
    "    df = pd.DataFrame(columns=columns)\n",
    "    for i in range(len(train_df)):\n",
    "        df.loc[i] = deeptaylor(i, train_df)\n",
    "\n",
    "    lst = []\n",
    "    for i in train_label:\n",
    "        lst.append (i.argmax(axis = 0))\n",
    "    lst = pd.Series (lst)\n",
    "    df['target'] =  lst\n",
    "    \n",
    "    return df"
   ]
  },
  {
   "cell_type": "code",
   "execution_count": null,
   "metadata": {},
   "outputs": [],
   "source": [
    "# Save the LRP dataframes as pickle objects\n",
    "adult_train_LRP = create_lrp_dataframe(X_train, Y_train)\n",
    "adult_test_LRP = create_lrp_dataframe(X_test, Y_test)\n",
    "\n",
    "adult_train_LRP.to_pickle(\"adult_train_LRP_pickle.pkl\")\n",
    "adult_test_LRP.to_pickle(\"adult_test_LRP_pickle.pkl\")"
   ]
  }
 ],
 "metadata": {
  "kernelspec": {
   "display_name": "lrp_env",
   "language": "python",
   "name": "lrp_env"
  },
  "language_info": {
   "codemirror_mode": {
    "name": "ipython",
    "version": 3
   },
   "file_extension": ".py",
   "mimetype": "text/x-python",
   "name": "python",
   "nbconvert_exporter": "python",
   "pygments_lexer": "ipython3",
   "version": "3.7.4"
  }
 },
 "nbformat": 4,
 "nbformat_minor": 2
}
