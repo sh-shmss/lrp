{
 "cells": [
  {
   "cell_type": "code",
   "execution_count": 1,
   "metadata": {},
   "outputs": [
    {
     "name": "stderr",
     "output_type": "stream",
     "text": [
      "Using TensorFlow backend.\n"
     ]
    }
   ],
   "source": [
    "# To ignore future warnings\n",
    "import warnings\n",
    "warnings.filterwarnings('ignore')\n",
    "\n",
    "# Install the library used for calculating LRP\n",
    "# % pip install innvestigate\n",
    "\n",
    "import innvestigate\n",
    "import innvestigate.utils as iutils"
   ]
  },
  {
   "cell_type": "code",
   "execution_count": 2,
   "metadata": {},
   "outputs": [],
   "source": [
    "# virtualenv lrp_env\n",
    "# source lrp_env/bin/activate\n",
    "# pip install pandas, sklearn, tensorflow, keras, matplotlib\n",
    "# pip install ipykernel\n",
    "# python -m ipykernel install --user --name lrp_env --display-name \"lrp_env\"\n",
    "\n",
    "import warnings\n",
    "warnings.filterwarnings('ignore')\n",
    "\n",
    "import pandas as pd\n",
    "import numpy as np\n",
    "from sklearn.preprocessing import OneHotEncoder, StandardScaler\n",
    "from sklearn.model_selection import train_test_split\n",
    "from tensorflow import keras\n",
    "from keras.layers import Conv2D, Flatten, Dense, Conv1D, MaxPooling2D\n",
    "import keras.layers\n",
    "from sklearn.metrics import roc_curve, auc, confusion_matrix\n",
    "\n",
    "import matplotlib.pyplot as plt\n",
    "plt.style.use('ggplot')"
   ]
  },
  {
   "cell_type": "code",
   "execution_count": 3,
   "metadata": {},
   "outputs": [],
   "source": [
    "class dataLoader:   \n",
    "    \n",
    "    def __init__(self):\n",
    "        pass\n",
    "    \n",
    "    def load_data(filename = \"\", column_names = [], sep = \",\"):\n",
    "        df = pd.read_csv(filename, names = column_names, sep = sep)\n",
    "        return df"
   ]
  },
  {
   "cell_type": "code",
   "execution_count": 4,
   "metadata": {},
   "outputs": [],
   "source": [
    "class dataPreprocessor:\n",
    "    \n",
    "    def __init__(self):\n",
    "        pass       \n",
    "        \n",
    "    def feature_target(df ,target = \"\"):\n",
    "        data = df.drop('class', axis = 1) \n",
    "        target = pd.DataFrame(original_df[target].copy())\n",
    "        return data, target\n",
    "    \n",
    "    def scaler(data):\n",
    "        stdscaler = StandardScaler()\n",
    "        return stdscaler.fit_transform(data.astype(np.float64)) \n",
    "    \n",
    "    def encoder(data):\n",
    "        cat_encoder = OneHotEncoder()\n",
    "        return cat_encoder.fit_transform(data)\n",
    "    \n",
    "    def reshaper(data,x,y):\n",
    "        features = len(data[0])\n",
    "        return data.reshape(data.shape[0],x,y,1)"
   ]
  },
  {
   "cell_type": "code",
   "execution_count": 5,
   "metadata": {},
   "outputs": [
    {
     "data": {
      "text/html": [
       "<div>\n",
       "<style scoped>\n",
       "    .dataframe tbody tr th:only-of-type {\n",
       "        vertical-align: middle;\n",
       "    }\n",
       "\n",
       "    .dataframe tbody tr th {\n",
       "        vertical-align: top;\n",
       "    }\n",
       "\n",
       "    .dataframe thead th {\n",
       "        text-align: right;\n",
       "    }\n",
       "</style>\n",
       "<table border=\"1\" class=\"dataframe\">\n",
       "  <thead>\n",
       "    <tr style=\"text-align: right;\">\n",
       "      <th></th>\n",
       "      <th>cl_thickness</th>\n",
       "      <th>uni_size</th>\n",
       "      <th>uni_shape</th>\n",
       "      <th>marg_adhesion</th>\n",
       "      <th>sing_cel_size</th>\n",
       "      <th>bare_nuclei</th>\n",
       "      <th>blan_chro</th>\n",
       "      <th>norm_nucl</th>\n",
       "      <th>mitoses</th>\n",
       "      <th>class</th>\n",
       "    </tr>\n",
       "    <tr>\n",
       "      <th>id_number</th>\n",
       "      <th></th>\n",
       "      <th></th>\n",
       "      <th></th>\n",
       "      <th></th>\n",
       "      <th></th>\n",
       "      <th></th>\n",
       "      <th></th>\n",
       "      <th></th>\n",
       "      <th></th>\n",
       "      <th></th>\n",
       "    </tr>\n",
       "  </thead>\n",
       "  <tbody>\n",
       "    <tr>\n",
       "      <td>1000025</td>\n",
       "      <td>5</td>\n",
       "      <td>1</td>\n",
       "      <td>1</td>\n",
       "      <td>1</td>\n",
       "      <td>2</td>\n",
       "      <td>1</td>\n",
       "      <td>3</td>\n",
       "      <td>1</td>\n",
       "      <td>1</td>\n",
       "      <td>2</td>\n",
       "    </tr>\n",
       "    <tr>\n",
       "      <td>1002945</td>\n",
       "      <td>5</td>\n",
       "      <td>4</td>\n",
       "      <td>4</td>\n",
       "      <td>5</td>\n",
       "      <td>7</td>\n",
       "      <td>10</td>\n",
       "      <td>3</td>\n",
       "      <td>2</td>\n",
       "      <td>1</td>\n",
       "      <td>2</td>\n",
       "    </tr>\n",
       "    <tr>\n",
       "      <td>1015425</td>\n",
       "      <td>3</td>\n",
       "      <td>1</td>\n",
       "      <td>1</td>\n",
       "      <td>1</td>\n",
       "      <td>2</td>\n",
       "      <td>2</td>\n",
       "      <td>3</td>\n",
       "      <td>1</td>\n",
       "      <td>1</td>\n",
       "      <td>2</td>\n",
       "    </tr>\n",
       "    <tr>\n",
       "      <td>1016277</td>\n",
       "      <td>6</td>\n",
       "      <td>8</td>\n",
       "      <td>8</td>\n",
       "      <td>1</td>\n",
       "      <td>3</td>\n",
       "      <td>4</td>\n",
       "      <td>3</td>\n",
       "      <td>7</td>\n",
       "      <td>1</td>\n",
       "      <td>2</td>\n",
       "    </tr>\n",
       "    <tr>\n",
       "      <td>1017023</td>\n",
       "      <td>4</td>\n",
       "      <td>1</td>\n",
       "      <td>1</td>\n",
       "      <td>3</td>\n",
       "      <td>2</td>\n",
       "      <td>1</td>\n",
       "      <td>3</td>\n",
       "      <td>1</td>\n",
       "      <td>1</td>\n",
       "      <td>2</td>\n",
       "    </tr>\n",
       "  </tbody>\n",
       "</table>\n",
       "</div>"
      ],
      "text/plain": [
       "           cl_thickness  uni_size  uni_shape  marg_adhesion  sing_cel_size  \\\n",
       "id_number                                                                    \n",
       "1000025               5         1          1              1              2   \n",
       "1002945               5         4          4              5              7   \n",
       "1015425               3         1          1              1              2   \n",
       "1016277               6         8          8              1              3   \n",
       "1017023               4         1          1              3              2   \n",
       "\n",
       "          bare_nuclei  blan_chro  norm_nucl  mitoses  class  \n",
       "id_number                                                    \n",
       "1000025             1          3          1        1      2  \n",
       "1002945            10          3          2        1      2  \n",
       "1015425             2          3          1        1      2  \n",
       "1016277             4          3          7        1      2  \n",
       "1017023             1          3          1        1      2  "
      ]
     },
     "execution_count": 5,
     "metadata": {},
     "output_type": "execute_result"
    }
   ],
   "source": [
    "columns = ['id_number', 'cl_thickness', 'uni_size', 'uni_shape', 'marg_adhesion',\\\n",
    "               'sing_cel_size', 'bare_nuclei', 'blan_chro', 'norm_nucl', 'mitoses', 'class']\n",
    "original_df = dataLoader.load_data('https://archive.ics.uci.edu/ml/machine-learning-databases/breast-cancer-wisconsin/breast-cancer-wisconsin.data',\\\n",
    "          columns, \",\")\n",
    "\n",
    "original_df.set_index('id_number', inplace = True)\n",
    "original_df.head()"
   ]
  },
  {
   "cell_type": "code",
   "execution_count": 6,
   "metadata": {},
   "outputs": [],
   "source": [
    "missing_rows = original_df[original_df['bare_nuclei']==\"?\"]\n",
    "original_df.drop(missing_rows.index.values, inplace = True)"
   ]
  },
  {
   "cell_type": "code",
   "execution_count": 7,
   "metadata": {},
   "outputs": [],
   "source": [
    "data, target = dataPreprocessor.feature_target(original_df, 'class')\n",
    "data = dataPreprocessor.scaler (data)"
   ]
  },
  {
   "cell_type": "code",
   "execution_count": 8,
   "metadata": {},
   "outputs": [],
   "source": [
    "X_train, X_test, y_train, y_test = train_test_split(data, target, test_size=0.2,\\\n",
    "                                                    stratify = target, random_state=42)"
   ]
  },
  {
   "cell_type": "code",
   "execution_count": 9,
   "metadata": {},
   "outputs": [
    {
     "name": "stdout",
     "output_type": "stream",
     "text": [
      "Accuracy on the train set: 0.971\n",
      "Accuracy on the test set: 0.971\n"
     ]
    }
   ],
   "source": [
    "from sklearn.linear_model import LogisticRegression\n",
    "\n",
    "log_reg = LogisticRegression()\n",
    "log_reg.fit(X_train, y_train)\n",
    "\n",
    "print('Accuracy on the train set: {:.3f}'.format(log_reg.score(X_train,y_train)))\n",
    "print('Accuracy on the test set: {:.3f}'.format(log_reg.score(X_test,y_test)))"
   ]
  },
  {
   "cell_type": "code",
   "execution_count": 10,
   "metadata": {},
   "outputs": [],
   "source": [
    "X_train, X_test, y_train, y_test = train_test_split(data, target, test_size=0.2,\\\n",
    "                                                    stratify = target, random_state=42)\n",
    "\n",
    "y_train = dataPreprocessor.encoder(y_train)\n",
    "y_test = dataPreprocessor.encoder(y_test)\n",
    "X_train = dataPreprocessor.reshaper(X_train,3,3)\n",
    "X_test = dataPreprocessor.reshaper(X_test,3,3)"
   ]
  },
  {
   "cell_type": "code",
   "execution_count": 11,
   "metadata": {},
   "outputs": [
    {
     "name": "stdout",
     "output_type": "stream",
     "text": [
      "WARNING:tensorflow:From /home/shayan/Desktop/code/adult_dataset/lrp_env/lib/python3.7/site-packages/keras/backend/tensorflow_backend.py:74: The name tf.get_default_graph is deprecated. Please use tf.compat.v1.get_default_graph instead.\n",
      "\n",
      "WARNING:tensorflow:From /home/shayan/Desktop/code/adult_dataset/lrp_env/lib/python3.7/site-packages/keras/backend/tensorflow_backend.py:517: The name tf.placeholder is deprecated. Please use tf.compat.v1.placeholder instead.\n",
      "\n",
      "WARNING:tensorflow:From /home/shayan/Desktop/code/adult_dataset/lrp_env/lib/python3.7/site-packages/keras/backend/tensorflow_backend.py:4138: The name tf.random_uniform is deprecated. Please use tf.random.uniform instead.\n",
      "\n",
      "WARNING:tensorflow:From /home/shayan/Desktop/code/adult_dataset/lrp_env/lib/python3.7/site-packages/keras/optimizers.py:790: The name tf.train.Optimizer is deprecated. Please use tf.compat.v1.train.Optimizer instead.\n",
      "\n",
      "WARNING:tensorflow:From /home/shayan/Desktop/code/adult_dataset/lrp_env/lib/python3.7/site-packages/keras/backend/tensorflow_backend.py:3295: The name tf.log is deprecated. Please use tf.math.log instead.\n",
      "\n",
      "WARNING:tensorflow:From /home/shayan/Desktop/code/adult_dataset/lrp_env/lib/python3.7/site-packages/tensorflow/python/ops/math_grad.py:1250: add_dispatch_support.<locals>.wrapper (from tensorflow.python.ops.array_ops) is deprecated and will be removed in a future version.\n",
      "Instructions for updating:\n",
      "Use tf.where in 2.0, which has the same broadcast rule as np.where\n",
      "WARNING:tensorflow:From /home/shayan/Desktop/code/adult_dataset/lrp_env/lib/python3.7/site-packages/keras/backend/tensorflow_backend.py:986: The name tf.assign_add is deprecated. Please use tf.compat.v1.assign_add instead.\n",
      "\n",
      "Train on 545 samples, validate on 137 samples\n",
      "Epoch 1/5\n",
      " - 0s - loss: 0.3592 - acc: 0.9596 - val_loss: 0.1477 - val_acc: 0.9708\n",
      "Epoch 2/5\n",
      " - 0s - loss: 0.1255 - acc: 0.9651 - val_loss: 0.0877 - val_acc: 0.9708\n",
      "Epoch 3/5\n",
      " - 0s - loss: 0.0958 - acc: 0.9670 - val_loss: 0.0837 - val_acc: 0.9708\n",
      "Epoch 4/5\n",
      " - 0s - loss: 0.0879 - acc: 0.9688 - val_loss: 0.0832 - val_acc: 0.9708\n",
      "Epoch 5/5\n",
      " - 0s - loss: 0.0820 - acc: 0.9688 - val_loss: 0.0840 - val_acc: 0.9708\n",
      "Test log loss: 0.08402100529005058\n",
      "Test accuracy: 0.9708029197080292\n"
     ]
    }
   ],
   "source": [
    "# Define the model\n",
    "model = None\n",
    "model = keras.Sequential()\n",
    "\n",
    "model.add(Conv2D(128, (2,2), activation='relu', input_shape=(3,3,1))),\n",
    "# model.add(MaxPooling2D(2))\n",
    "# model.add(Conv2D(128, (2,2), activation='relu'))\n",
    "# model.add(Conv2D(128, (2,2), activation='relu'))\n",
    "# model.add(MaxPooling2D(2))\n",
    "model.add(Flatten())\n",
    "model.add(Dense(2, input_dim = 2, activation='softmax'))  \n",
    "\n",
    "# Compile\n",
    "model.compile (loss=\"categorical_crossentropy\", optimizer = \"adam\", metrics = ['accuracy'])\n",
    "\n",
    "# Train\n",
    "history_callback = model.fit (X_train, y_train, epochs = 5, batch_size = 20,\n",
    "           validation_data=(X_test, y_test),\n",
    "           verbose = 2)\n",
    "\n",
    "scores = model.evaluate(X_test, y_test, verbose=0)\n",
    "\n",
    "# Evaluate the model's performance:\n",
    "print('Test log loss:', scores[0])\n",
    "print('Test accuracy:', scores[1])"
   ]
  },
  {
   "cell_type": "code",
   "execution_count": 12,
   "metadata": {},
   "outputs": [],
   "source": [
    "CNN_predictions = model.predict_classes(X_test)"
   ]
  },
  {
   "cell_type": "code",
   "execution_count": 13,
   "metadata": {},
   "outputs": [
    {
     "data": {
      "image/png": "[encoded data removed]",
      "text/plain": [
       "<Figure size 576x432 with 2 Axes>"
      ]
     },
     "metadata": {
      "needs_background": "light"
     },
     "output_type": "display_data"
    }
   ],
   "source": [
    "# Plot the accuracy\n",
    "fig, (ax1, ax2) = plt.subplots(2, figsize=(8, 6))\n",
    "\n",
    "val_acc = history_callback.history['val_acc']\n",
    "val_loss = history_callback.history['val_loss']\n",
    "ax1.plot(val_acc, label=\"Model\")\n",
    "ax2.plot(val_loss, label=\"Model\")\n",
    "    \n",
    "ax1.set_ylabel('validation accuracy')\n",
    "ax2.set_ylabel('validation loss')\n",
    "ax2.set_xlabel('epochs')\n",
    "ax1.legend()\n",
    "ax2.legend()\n",
    "plt.show()"
   ]
  },
  {
   "cell_type": "code",
   "execution_count": 14,
   "metadata": {},
   "outputs": [
    {
     "data": {
      "image/png": "[encoded data removed]",
      "text/plain": [
       "<Figure size 576x576 with 1 Axes>"
      ]
     },
     "metadata": {
      "needs_background": "light"
     },
     "output_type": "display_data"
    }
   ],
   "source": [
    "# Plot the ROC\n",
    "plt.figure(figsize=(8, 8))\n",
    "plt.plot([0, 1], [0, 1], 'k--')\n",
    "    \n",
    "y_pred = model.predict(X_test)\n",
    "\n",
    "real = np.argmax(y_test, axis=1)\n",
    "pred = np.argmax(y_pred, axis=1)\n",
    "\n",
    "fpr, tpr, threshold = roc_curve(real, pred)\n",
    "\n",
    "plt.plot(fpr, tpr, label='{}, AUC = {:.3f}'.format(\"model\", auc(fpr, tpr)))\n",
    "plt.xlabel('False positive rate')\n",
    "plt.ylabel('True positive rate')\n",
    "plt.title('ROC curve')\n",
    "plt.legend();"
   ]
  },
  {
   "cell_type": "code",
   "execution_count": 15,
   "metadata": {},
   "outputs": [
    {
     "data": {
      "text/html": [
       "<div>\n",
       "<style scoped>\n",
       "    .dataframe tbody tr th:only-of-type {\n",
       "        vertical-align: middle;\n",
       "    }\n",
       "\n",
       "    .dataframe tbody tr th {\n",
       "        vertical-align: top;\n",
       "    }\n",
       "\n",
       "    .dataframe thead th {\n",
       "        text-align: right;\n",
       "    }\n",
       "</style>\n",
       "<table border=\"1\" class=\"dataframe\">\n",
       "  <thead>\n",
       "    <tr style=\"text-align: right;\">\n",
       "      <th>col_0</th>\n",
       "      <th>0</th>\n",
       "      <th>1</th>\n",
       "    </tr>\n",
       "    <tr>\n",
       "      <th>row_0</th>\n",
       "      <th></th>\n",
       "      <th></th>\n",
       "    </tr>\n",
       "  </thead>\n",
       "  <tbody>\n",
       "    <tr>\n",
       "      <td>0</td>\n",
       "      <td>86</td>\n",
       "      <td>3</td>\n",
       "    </tr>\n",
       "    <tr>\n",
       "      <td>1</td>\n",
       "      <td>1</td>\n",
       "      <td>47</td>\n",
       "    </tr>\n",
       "  </tbody>\n",
       "</table>\n",
       "</div>"
      ],
      "text/plain": [
       "col_0   0   1\n",
       "row_0        \n",
       "0      86   3\n",
       "1       1  47"
      ]
     },
     "execution_count": 15,
     "metadata": {},
     "output_type": "execute_result"
    }
   ],
   "source": [
    "real = np.array(real).reshape(137)\n",
    "confusion = pd.crosstab(real, pred)\n",
    "confusion"
   ]
  },
  {
   "cell_type": "code",
   "execution_count": 16,
   "metadata": {},
   "outputs": [
    {
     "data": {
      "text/html": [
       "<div>\n",
       "<style scoped>\n",
       "    .dataframe tbody tr th:only-of-type {\n",
       "        vertical-align: middle;\n",
       "    }\n",
       "\n",
       "    .dataframe tbody tr th {\n",
       "        vertical-align: top;\n",
       "    }\n",
       "\n",
       "    .dataframe thead th {\n",
       "        text-align: right;\n",
       "    }\n",
       "</style>\n",
       "<table border=\"1\" class=\"dataframe\">\n",
       "  <thead>\n",
       "    <tr style=\"text-align: right;\">\n",
       "      <th>col_0</th>\n",
       "      <th>0</th>\n",
       "      <th>1</th>\n",
       "    </tr>\n",
       "    <tr>\n",
       "      <th>row_0</th>\n",
       "      <th></th>\n",
       "      <th></th>\n",
       "    </tr>\n",
       "  </thead>\n",
       "  <tbody>\n",
       "    <tr>\n",
       "      <td>0</td>\n",
       "      <td>86</td>\n",
       "      <td>3</td>\n",
       "    </tr>\n",
       "    <tr>\n",
       "      <td>1</td>\n",
       "      <td>1</td>\n",
       "      <td>47</td>\n",
       "    </tr>\n",
       "  </tbody>\n",
       "</table>\n",
       "</div>"
      ],
      "text/plain": [
       "col_0   0   1\n",
       "row_0        \n",
       "0      86   3\n",
       "1       1  47"
      ]
     },
     "execution_count": 16,
     "metadata": {},
     "output_type": "execute_result"
    }
   ],
   "source": [
    "real = np.array(real).reshape(137)\n",
    "confusion = pd.crosstab(real, pred)\n",
    "confusion"
   ]
  },
  {
   "cell_type": "code",
   "execution_count": 17,
   "metadata": {},
   "outputs": [],
   "source": [
    "# Function to output innvestigate's LRP \"Alphabeta value\": \n",
    "# (for other options, see \n",
    "# https://github.com/albermax/innvestigate/blob/accbb99d0da2eb47f22e3d04563c8964e2b1ad90/innvestigate/analyzer/relevance_based/relevance_analyzer.py)\n",
    "# lines 36-65\n",
    "\n",
    "def deeptaylor (instance, dataframe):\n",
    "    # Stripping the softmax activation from the model\n",
    "    model_wo_sm = iutils.keras.graph.model_wo_softmax(model)\n",
    "\n",
    "    # Creating an analyzer\n",
    "    #gradient_analyzer = innvestigate.create_analyzer(\"lrp.alpha_2_beta_1\", model_wo_sm)\n",
    "    analyzer = innvestigate.create_analyzer(\"deep_taylor\", model_wo_sm)\n",
    "\n",
    "    # Applying the analyzer (reshape the instance for the LRP function)\n",
    "    analysis = analyzer.analyze(np.expand_dims(dataframe[instance], axis=0))\n",
    "    lst = []\n",
    "    x = np.reshape (analysis,(9,))\n",
    "    for i in range (len(x)):\n",
    "        lst.append(x[i])\n",
    "    return lst"
   ]
  },
  {
   "cell_type": "code",
   "execution_count": 18,
   "metadata": {},
   "outputs": [
    {
     "name": "stdout",
     "output_type": "stream",
     "text": [
      "[[[[0.33752817]\n",
      "   [0.40618554]\n",
      "   [0.23294973]]\n",
      "\n",
      "  [[0.2473449 ]\n",
      "   [0.4581829 ]\n",
      "   [0.40455255]]\n",
      "\n",
      "  [[0.12878463]\n",
      "   [0.22403274]\n",
      "   [0.07162203]]]]\n"
     ]
    }
   ],
   "source": [
    "# Choose an instance to test:\n",
    "example = 0\n",
    "example = X_test[example]\n",
    "\n",
    "model_wo_sm = iutils.keras.graph.model_wo_softmax(model)\n",
    "\n",
    "# Creating an analyzer\n",
    "gradient_analyzer = innvestigate.create_analyzer(\"deep_taylor\", model_wo_sm)\n",
    "\n",
    "# Applying the analyzer\n",
    "analysis = gradient_analyzer.analyze(np.expand_dims(example, axis=0))\n",
    "\n",
    "print (analysis)"
   ]
  },
  {
   "cell_type": "code",
   "execution_count": 19,
   "metadata": {},
   "outputs": [],
   "source": [
    "# Create and save two dataframes (train and test) containing Alphabeta LRP information obtained from the 2D CNN:\n",
    "def create_lrp_dataframe(train_df, train_label):\n",
    "    df = pd.DataFrame(columns=columns[1:-1])\n",
    "    for i in range(len(train_df)):\n",
    "        df.loc[i] = deeptaylor(i, train_df)\n",
    "\n",
    "    lst = []\n",
    "    for i in train_label:\n",
    "        lst.append (i.argmax())\n",
    "    lst = pd.Series (lst)\n",
    "    df['target'] =  lst\n",
    "    \n",
    "    return df"
   ]
  },
  {
   "cell_type": "code",
   "execution_count": 20,
   "metadata": {},
   "outputs": [],
   "source": [
    "# Save the LRP dataframes as pickle objects\n",
    "# cancer_train_LRP = create_lrp_dataframe(X_train, y_train)\n",
    "cancer_test_LRP = create_lrp_dataframe(X_test, y_test)\n",
    "\n",
    "# cancer_train_LRP.to_pickle(\"cancer_train_LRP_pickle.pkl\")\n",
    "cancer_test_LRP.to_pickle(\"cancer_test_LRP_pickle.pkl\")"
   ]
  },
  {
   "cell_type": "code",
   "execution_count": 21,
   "metadata": {},
   "outputs": [],
   "source": [
    "# Read from the pickle file in future:\n",
    "cancer_test_LRP = pd.read_pickle('/home/shayan/Desktop/code/breast_cancer/cancer_test_LRP_pickle.pkl')"
   ]
  },
  {
   "cell_type": "code",
   "execution_count": 22,
   "metadata": {},
   "outputs": [
    {
     "data": {
      "text/plain": [
       "(137, 10)"
      ]
     },
     "execution_count": 22,
     "metadata": {},
     "output_type": "execute_result"
    }
   ],
   "source": [
    "cancer_test_LRP.shape"
   ]
  },
  {
   "cell_type": "code",
   "execution_count": 23,
   "metadata": {},
   "outputs": [
    {
     "data": {
      "text/html": [
       "<div>\n",
       "<style scoped>\n",
       "    .dataframe tbody tr th:only-of-type {\n",
       "        vertical-align: middle;\n",
       "    }\n",
       "\n",
       "    .dataframe tbody tr th {\n",
       "        vertical-align: top;\n",
       "    }\n",
       "\n",
       "    .dataframe thead th {\n",
       "        text-align: right;\n",
       "    }\n",
       "</style>\n",
       "<table border=\"1\" class=\"dataframe\">\n",
       "  <thead>\n",
       "    <tr style=\"text-align: right;\">\n",
       "      <th></th>\n",
       "      <th>cl_thickness</th>\n",
       "      <th>uni_size</th>\n",
       "      <th>uni_shape</th>\n",
       "      <th>marg_adhesion</th>\n",
       "      <th>sing_cel_size</th>\n",
       "      <th>bare_nuclei</th>\n",
       "      <th>blan_chro</th>\n",
       "      <th>norm_nucl</th>\n",
       "      <th>mitoses</th>\n",
       "      <th>target</th>\n",
       "    </tr>\n",
       "  </thead>\n",
       "  <tbody>\n",
       "    <tr>\n",
       "      <td>0</td>\n",
       "      <td>0.337528</td>\n",
       "      <td>0.406186</td>\n",
       "      <td>0.232950</td>\n",
       "      <td>0.247345</td>\n",
       "      <td>0.458183</td>\n",
       "      <td>0.404553</td>\n",
       "      <td>0.128785</td>\n",
       "      <td>0.224033</td>\n",
       "      <td>0.071622</td>\n",
       "      <td>0</td>\n",
       "    </tr>\n",
       "    <tr>\n",
       "      <td>1</td>\n",
       "      <td>0.134351</td>\n",
       "      <td>0.401851</td>\n",
       "      <td>0.231102</td>\n",
       "      <td>0.244494</td>\n",
       "      <td>0.455627</td>\n",
       "      <td>0.401343</td>\n",
       "      <td>0.022067</td>\n",
       "      <td>0.225646</td>\n",
       "      <td>0.071054</td>\n",
       "      <td>0</td>\n",
       "    </tr>\n",
       "    <tr>\n",
       "      <td>2</td>\n",
       "      <td>0.333142</td>\n",
       "      <td>0.402889</td>\n",
       "      <td>0.021909</td>\n",
       "      <td>0.244131</td>\n",
       "      <td>0.451646</td>\n",
       "      <td>0.406042</td>\n",
       "      <td>0.127111</td>\n",
       "      <td>0.221121</td>\n",
       "      <td>0.070691</td>\n",
       "      <td>0</td>\n",
       "    </tr>\n",
       "    <tr>\n",
       "      <td>3</td>\n",
       "      <td>0.337528</td>\n",
       "      <td>0.406186</td>\n",
       "      <td>0.232950</td>\n",
       "      <td>0.247345</td>\n",
       "      <td>0.458183</td>\n",
       "      <td>0.404553</td>\n",
       "      <td>0.128785</td>\n",
       "      <td>0.224033</td>\n",
       "      <td>0.071622</td>\n",
       "      <td>0</td>\n",
       "    </tr>\n",
       "    <tr>\n",
       "      <td>4</td>\n",
       "      <td>0.002106</td>\n",
       "      <td>0.012995</td>\n",
       "      <td>0.027667</td>\n",
       "      <td>0.188493</td>\n",
       "      <td>0.317409</td>\n",
       "      <td>0.271491</td>\n",
       "      <td>0.105029</td>\n",
       "      <td>0.182707</td>\n",
       "      <td>0.058410</td>\n",
       "      <td>0</td>\n",
       "    </tr>\n",
       "  </tbody>\n",
       "</table>\n",
       "</div>"
      ],
      "text/plain": [
       "   cl_thickness  uni_size  uni_shape  marg_adhesion  sing_cel_size  \\\n",
       "0      0.337528  0.406186   0.232950       0.247345       0.458183   \n",
       "1      0.134351  0.401851   0.231102       0.244494       0.455627   \n",
       "2      0.333142  0.402889   0.021909       0.244131       0.451646   \n",
       "3      0.337528  0.406186   0.232950       0.247345       0.458183   \n",
       "4      0.002106  0.012995   0.027667       0.188493       0.317409   \n",
       "\n",
       "   bare_nuclei  blan_chro  norm_nucl   mitoses  target  \n",
       "0     0.404553   0.128785   0.224033  0.071622       0  \n",
       "1     0.401343   0.022067   0.225646  0.071054       0  \n",
       "2     0.406042   0.127111   0.221121  0.070691       0  \n",
       "3     0.404553   0.128785   0.224033  0.071622       0  \n",
       "4     0.271491   0.105029   0.182707  0.058410       0  "
      ]
     },
     "execution_count": 23,
     "metadata": {},
     "output_type": "execute_result"
    }
   ],
   "source": [
    "cancer_test_LRP.head()"
   ]
  },
  {
   "cell_type": "code",
   "execution_count": 24,
   "metadata": {},
   "outputs": [],
   "source": [
    "data, target = dataPreprocessor.feature_target(original_df, 'class')\n",
    "data = dataPreprocessor.scaler (data)\n",
    "X_train, X_test, y_train, y_test = train_test_split(data, target, test_size=0.2,\\\n",
    "                                                    stratify = target, random_state=42)\n",
    "\n",
    "y_train = dataPreprocessor.encoder(y_train)\n",
    "y_test = dataPreprocessor.encoder(y_test)"
   ]
  },
  {
   "cell_type": "code",
   "execution_count": 25,
   "metadata": {},
   "outputs": [
    {
     "data": {
      "text/plain": [
       "array([-1.22128119, -0.70298082, -0.74261687, -0.64002594, -0.55614156,\n",
       "       -0.69961581, -0.18196482, -0.61354557, -0.34868607])"
      ]
     },
     "execution_count": 25,
     "metadata": {},
     "output_type": "execute_result"
    }
   ],
   "source": [
    "X_train[0]"
   ]
  },
  {
   "cell_type": "code",
   "execution_count": 26,
   "metadata": {},
   "outputs": [],
   "source": [
    "# Create an array in a shape that can be used in the kNN model:\n",
    "# example instance:\n",
    "# [-0.9006811702978099, 1.7095946507475455, -1.2833890997091604, -1.18381211071744,..., 0]\n",
    "def create_cancer_array(X_arry, y_arry):\n",
    "    cancer = []\n",
    "    for i in range(len(X_arry)):\n",
    "        elem = list(X_arry[i])\n",
    "        elem.append(y_arry[i].argmax())\n",
    "        cancer.append(elem)\n",
    "    return cancer\n",
    "\n",
    "cancer_train = create_cancer_array(X_train, y_train)\n",
    "cancer_test = create_cancer_array(X_test, y_test)"
   ]
  },
  {
   "cell_type": "code",
   "execution_count": 27,
   "metadata": {},
   "outputs": [
    {
     "data": {
      "text/html": [
       "<div>\n",
       "<style scoped>\n",
       "    .dataframe tbody tr th:only-of-type {\n",
       "        vertical-align: middle;\n",
       "    }\n",
       "\n",
       "    .dataframe tbody tr th {\n",
       "        vertical-align: top;\n",
       "    }\n",
       "\n",
       "    .dataframe thead th {\n",
       "        text-align: right;\n",
       "    }\n",
       "</style>\n",
       "<table border=\"1\" class=\"dataframe\">\n",
       "  <thead>\n",
       "    <tr style=\"text-align: right;\">\n",
       "      <th></th>\n",
       "      <th>1</th>\n",
       "      <th>2</th>\n",
       "    </tr>\n",
       "  </thead>\n",
       "  <tbody>\n",
       "    <tr>\n",
       "      <td>0</td>\n",
       "      <td>1.260795</td>\n",
       "      <td>1.260795</td>\n",
       "    </tr>\n",
       "    <tr>\n",
       "      <td>1</td>\n",
       "      <td>1.255220</td>\n",
       "      <td>1.255220</td>\n",
       "    </tr>\n",
       "    <tr>\n",
       "      <td>2</td>\n",
       "      <td>1.600577</td>\n",
       "      <td>1.600577</td>\n",
       "    </tr>\n",
       "    <tr>\n",
       "      <td>3</td>\n",
       "      <td>0.756767</td>\n",
       "      <td>0.756767</td>\n",
       "    </tr>\n",
       "    <tr>\n",
       "      <td>4</td>\n",
       "      <td>0.793640</td>\n",
       "      <td>0.793640</td>\n",
       "    </tr>\n",
       "    <tr>\n",
       "      <td>5</td>\n",
       "      <td>1.771179</td>\n",
       "      <td>1.771179</td>\n",
       "    </tr>\n",
       "    <tr>\n",
       "      <td>6</td>\n",
       "      <td>2.267377</td>\n",
       "      <td>2.267377</td>\n",
       "    </tr>\n",
       "    <tr>\n",
       "      <td>7</td>\n",
       "      <td>2.335509</td>\n",
       "      <td>2.335509</td>\n",
       "    </tr>\n",
       "    <tr>\n",
       "      <td>8</td>\n",
       "      <td>-0.348686</td>\n",
       "      <td>-0.348686</td>\n",
       "    </tr>\n",
       "    <tr>\n",
       "      <td>9</td>\n",
       "      <td>1.000000</td>\n",
       "      <td>1.000000</td>\n",
       "    </tr>\n",
       "  </tbody>\n",
       "</table>\n",
       "</div>"
      ],
      "text/plain": [
       "          1         2\n",
       "0  1.260795  1.260795\n",
       "1  1.255220  1.255220\n",
       "2  1.600577  1.600577\n",
       "3  0.756767  0.756767\n",
       "4  0.793640  0.793640\n",
       "5  1.771179  1.771179\n",
       "6  2.267377  2.267377\n",
       "7  2.335509  2.335509\n",
       "8 -0.348686 -0.348686\n",
       "9  1.000000  1.000000"
      ]
     },
     "execution_count": 27,
     "metadata": {},
     "output_type": "execute_result"
    }
   ],
   "source": [
    "# To test the above function:\n",
    "example = 14\n",
    "df = pd.DataFrame()\n",
    "df['1'] = cancer_test[example]\n",
    "df['2'] = X_test[example].tolist() + [y_test[example].argmax()]\n",
    "df"
   ]
  },
  {
   "cell_type": "code",
   "execution_count": 28,
   "metadata": {},
   "outputs": [
    {
     "data": {
      "text/plain": [
       "[[0.2011137753725052, 1.2607947583101071],\n",
       " [0.2597796618938446, 1.2552203498644983],\n",
       " [0.21212390065193176, 1.6005774042053083],\n",
       " [0.12308633327484131, 0.7567666769642246],\n",
       " [0.22722595930099487, 0.7936397416473479],\n",
       " [0.5288733839988708, 1.7711792568841078],\n",
       " [0.15236438810825348, 2.2673774754656333],\n",
       " [0.4741196930408478, 2.3355090122317756],\n",
       " [0.02120557427406311, -0.3486860698273789],\n",
       " 1]"
      ]
     },
     "execution_count": 28,
     "metadata": {},
     "output_type": "execute_result"
    }
   ],
   "source": [
    "# Create an array that combines the test data set with LRP values:\n",
    "# [[attribute's LRP, attribute],...,class]\n",
    "\n",
    "cancer_test_LRP_array = cancer_test_LRP.values.tolist()\n",
    "_1 = cancer_test_LRP_array[14]\n",
    "_2 = cancer_test[14]\n",
    "\n",
    "new_list=[]\n",
    "for i in range (len(_1)-1):\n",
    "    lst=[]\n",
    "    lst.append(_1[i])\n",
    "    lst.append(_2[i])\n",
    "    new_list.append(lst)\n",
    "if _1[-1] == float(_2[-1]):\n",
    "    new_list.append(_2[-1])\n",
    "\n",
    "new_list"
   ]
  },
  {
   "cell_type": "code",
   "execution_count": 29,
   "metadata": {},
   "outputs": [],
   "source": [
    "# Above cell was perfomed on one instance. Let's perform it for the whole test array:\n",
    "cancer_test_plus_LRP=[]\n",
    "for j in range(len(cancer_test_LRP_array)):\n",
    "    _1 = cancer_test_LRP_array[j]\n",
    "    _2 = cancer_test[j]\n",
    "    new_list=[]\n",
    "    for i in range (len(_1)-1):\n",
    "        lst=[]\n",
    "        lst.append(_1[i])\n",
    "        lst.append(_2[i])\n",
    "        new_list.append(lst)\n",
    "    if _1[-1] == float(_2[-1]):\n",
    "        new_list.append(_2[-1])\n",
    "    cancer_test_plus_LRP.append (new_list)"
   ]
  },
  {
   "cell_type": "code",
   "execution_count": 30,
   "metadata": {},
   "outputs": [
    {
     "data": {
      "text/plain": [
       "137"
      ]
     },
     "execution_count": 30,
     "metadata": {},
     "output_type": "execute_result"
    }
   ],
   "source": [
    "len(cancer_test_plus_LRP)"
   ]
  },
  {
   "cell_type": "code",
   "execution_count": 31,
   "metadata": {},
   "outputs": [
    {
     "data": {
      "text/plain": [
       "[[0.01601109281182289, 0.19704792305135282],\n",
       " [0.0021418710239231586, -0.05024709749743507],\n",
       " [0.02180328778922558, 0.2616092476054675],\n",
       " [0.017178935930132866, -0.6400259446585121],\n",
       " [0.4827192723751068, 2.1434210478904676],\n",
       " [0.3500171899795532, 1.7711792568841078],\n",
       " [0.00614554900676012, 0.2262588927470985],\n",
       " [0.25459256768226624, 2.007836281036122],\n",
       " [0.012478813529014587, -0.3486860698273789],\n",
       " 1]"
      ]
     },
     "execution_count": 31,
     "metadata": {},
     "output_type": "execute_result"
    }
   ],
   "source": [
    "# test and compare the newly combined array with test and LRP arrays respectively:\n",
    "cancer_test_plus_LRP[40]"
   ]
  },
  {
   "cell_type": "code",
   "execution_count": 32,
   "metadata": {},
   "outputs": [
    {
     "data": {
      "text/plain": [
       "[0.01601109281182289,\n",
       " 0.0021418710239231586,\n",
       " 0.02180328778922558,\n",
       " 0.017178935930132866,\n",
       " 0.4827192723751068,\n",
       " 0.3500171899795532,\n",
       " 0.00614554900676012,\n",
       " 0.25459256768226624,\n",
       " 0.012478813529014587,\n",
       " 1.0]"
      ]
     },
     "execution_count": 32,
     "metadata": {},
     "output_type": "execute_result"
    }
   ],
   "source": [
    "cancer_test_LRP_array[40]"
   ]
  },
  {
   "cell_type": "code",
   "execution_count": 33,
   "metadata": {},
   "outputs": [
    {
     "data": {
      "text/plain": [
       "[0.19704792305135282,\n",
       " -0.05024709749743507,\n",
       " 0.2616092476054675,\n",
       " -0.6400259446585121,\n",
       " 2.1434210478904676,\n",
       " 1.7711792568841078,\n",
       " 0.2262588927470985,\n",
       " 2.007836281036122,\n",
       " -0.3486860698273789,\n",
       " 1]"
      ]
     },
     "execution_count": 33,
     "metadata": {},
     "output_type": "execute_result"
    }
   ],
   "source": [
    "cancer_test[40]"
   ]
  },
  {
   "cell_type": "code",
   "execution_count": 34,
   "metadata": {},
   "outputs": [],
   "source": [
    "# Create a kNN model:\n",
    "# adopted from https://machinelearningmastery.com/tutorial-to-implement-k-nearest-neighbors-in-python-from-scratch/\n",
    "\n",
    "import random\n",
    "import math\n",
    "import operator\n",
    "\n",
    "def euclideanDistance(instance1, instance2, length):\n",
    "\tdistance = 0\n",
    "\tfor x in range(length):\n",
    "# \t\tdistance += pow((instance1[x] - instance2[x]), 2)\n",
    "# Modify the Euclidean distance formula to add the LRP as a factor\n",
    "# instance1[x][0] is the LRP value of instance1[x][1]\n",
    "\t\tdistance +=  instance1[x][0]*(pow((instance1[x][1] - instance2[x]), 2))\n",
    "\treturn math.sqrt(distance)\n",
    "\n",
    "# Find the nearest neighbors\n",
    "def getNeighbors(trainingSet, testInstance, k):\n",
    "\tdistances = []\n",
    "\tlength = len(testInstance)-1\n",
    "\tfor x in range(len(trainingSet)):\n",
    "\t\tdist = euclideanDistance(testInstance, trainingSet[x], length)\n",
    "\t\tdistances.append((trainingSet[x], dist))\n",
    "\tdistances.sort(key=operator.itemgetter(1))\n",
    "\tneighbors = []\n",
    "\tfor x in range(k):\n",
    "\t\tneighbors.append(distances[x][0])\n",
    "\treturn neighbors\n",
    "\n",
    "# Determine the class with the majority vote\n",
    "def getResponse(neighbors):\n",
    "\tclassVotes = {}\n",
    "\tfor x in range(len(neighbors)):\n",
    "\t\tresponse = neighbors[x][-1]\n",
    "\t\tif response in classVotes:\n",
    "\t\t\tclassVotes[response] += 1\n",
    "\t\telse:\n",
    "\t\t\tclassVotes[response] = 1\n",
    "\tsortedVotes = sorted(classVotes.items(), key=operator.itemgetter(1), reverse=True)\n",
    "\treturn sortedVotes[0][0]\n",
    "\n",
    "# Determine the accuracy of the kNN model\n",
    "def getAccuracy(testSet, predictions):\n",
    "\tcorrect = 0\n",
    "\tfor x in range(len(testSet)):\n",
    "\t\tif testSet[x][-1] == predictions[x]:\n",
    "\t\t\tcorrect += 1\n",
    "\treturn (correct/float(len(testSet))) * 100.0\n",
    "\n",
    "# Create confusion matrix\n",
    "def create_confusion(true_class, predicted_class):\n",
    "\t\treal=[]\n",
    "\t\tfor i in true_class:\n",
    "\t\t\treal.append(i[-1])\n",
    "\t\tprint (confusion_matrix(real, predicted_class))\n",
    "\n",
    "# Run all of the above functions\n",
    "def main():\n",
    "\t# prepare data\n",
    "\ttrainingSet=cancer_train #[]\n",
    "# \ttestSet=cancer_test #[]\n",
    "\ttestSet=cancer_test_plus_LRP #[]\n",
    "# \tsplit = 0.67\n",
    "# \tloadDataset('iris.data', split, trainingSet, testSet)\n",
    "\tprint ('Train set: ' + repr(len(trainingSet)))\n",
    "\tprint ('Test set: ' + repr(len(testSet)))\n",
    "\t# generate predictions\n",
    "\tpredictions=[]\n",
    "\tk = 3\n",
    "\tfor x in range(len(testSet)):\n",
    "\t\tneighbors = getNeighbors(trainingSet, testSet[x], k)\n",
    "\t\tresult = getResponse(neighbors)\n",
    "\t\tpredictions.append(result)\n",
    "# \t\tprint('> predicted=' + repr(result) + ', actual=' + repr(testSet[x][-1]))\n",
    "\taccuracy = getAccuracy(testSet, predictions)\n",
    "\tprint('Accuracy: ' + repr(accuracy) + '%')\n",
    "\tcreate_confusion(testSet,predictions)\n",
    "\treturn predictions"
   ]
  },
  {
   "cell_type": "code",
   "execution_count": 35,
   "metadata": {},
   "outputs": [
    {
     "name": "stdout",
     "output_type": "stream",
     "text": [
      "Train set: 545\n",
      "Test set: 137\n",
      "Accuracy: 97.8102189781022%\n",
      "[[87  2]\n",
      " [ 1 47]]\n"
     ]
    }
   ],
   "source": [
    "kNN_X_test_predictions = main()"
   ]
  },
  {
   "cell_type": "code",
   "execution_count": 45,
   "metadata": {},
   "outputs": [
    {
     "name": "stdout",
     "output_type": "stream",
     "text": [
      "Train set: 545\n",
      "Test set: 137\n",
      "Accuracy: 97.8102189781022%\n",
      "[[87  2]\n",
      " [ 1 47]]\n"
     ]
    }
   ],
   "source": [
    "kNN_X_test_predictions = main()"
   ]
  },
  {
   "cell_type": "code",
   "execution_count": 36,
   "metadata": {},
   "outputs": [
    {
     "name": "stdout",
     "output_type": "stream",
     "text": [
      "Train set: 545\n",
      "Test set: 137\n",
      "Accuracy: 97.8102189781022%\n",
      "[[87  2]\n",
      " [ 1 47]]\n"
     ]
    }
   ],
   "source": [
    "kNN_X_test_predictions = main()"
   ]
  },
  {
   "cell_type": "code",
   "execution_count": 36,
   "metadata": {},
   "outputs": [],
   "source": [
    "def if_matches(x,y):\n",
    "    if x==y:\n",
    "        return 1\n",
    "    else:\n",
    "        return 0"
   ]
  },
  {
   "cell_type": "code",
   "execution_count": 37,
   "metadata": {},
   "outputs": [
    {
     "name": "stdout",
     "output_type": "stream",
     "text": [
      "99.27007299270073\n"
     ]
    }
   ],
   "source": [
    "matches = list(map(if_matches,CNN_predictions, kNN_X_test_predictions))\n",
    "# The percentage of the CNN predictions that match those of the kNN model.\n",
    "print (matches.count(1)/len(matches)*100)"
   ]
  },
  {
   "cell_type": "code",
   "execution_count": 47,
   "metadata": {},
   "outputs": [
    {
     "name": "stdout",
     "output_type": "stream",
     "text": [
      "99.27007299270073\n"
     ]
    }
   ],
   "source": [
    "matches = list(map(if_matches,CNN_predictions, kNN_X_test_predictions))\n",
    "# The percentage of the CNN predictions that match those of the kNN model.\n",
    "print (matches.count(1)/len(matches)*100)"
   ]
  },
  {
   "cell_type": "code",
   "execution_count": 38,
   "metadata": {},
   "outputs": [
    {
     "name": "stdout",
     "output_type": "stream",
     "text": [
      "99.27007299270073\n"
     ]
    }
   ],
   "source": [
    "matches = list(map(if_matches,CNN_predictions, kNN_X_test_predictions))\n",
    "# The percentage of the CNN predictions that match those of the kNN model.\n",
    "print (matches.count(1)/len(matches)*100)"
   ]
  },
  {
   "cell_type": "code",
   "execution_count": null,
   "metadata": {},
   "outputs": [],
   "source": []
  },
  {
   "cell_type": "code",
   "execution_count": 21,
   "metadata": {},
   "outputs": [
    {
     "name": "stdout",
     "output_type": "stream",
     "text": [
      "Train set: 545\n",
      "Test set: 137\n",
      "Accuracy: 95.62043795620438%\n",
      "[[86  3]\n",
      " [ 3 45]]\n"
     ]
    }
   ],
   "source": [
    "kNN_X_test_predictions = main()"
   ]
  },
  {
   "cell_type": "code",
   "execution_count": 22,
   "metadata": {},
   "outputs": [
    {
     "name": "stdout",
     "output_type": "stream",
     "text": [
      "98.54014598540147\n"
     ]
    }
   ],
   "source": [
    "matches = list(map(if_matches,CNN_predictions, kNN_X_test_predictions))\n",
    "# The percentage of the CNN predictions that match those of the kNN model.\n",
    "print (matches.count(1)/len(matches)*100)"
   ]
  },
  {
   "cell_type": "code",
   "execution_count": null,
   "metadata": {},
   "outputs": [],
   "source": []
  }
 ],
 "metadata": {
  "kernelspec": {
   "display_name": "lrp_env",
   "language": "python",
   "name": "lrp_env"
  },
  "language_info": {
   "codemirror_mode": {
    "name": "ipython",
    "version": 3
   },
   "file_extension": ".py",
   "mimetype": "text/x-python",
   "name": "python",
   "nbconvert_exporter": "python",
   "pygments_lexer": "ipython3",
   "version": "3.7.4"
  }
 },
 "nbformat": 4,
 "nbformat_minor": 2
}
